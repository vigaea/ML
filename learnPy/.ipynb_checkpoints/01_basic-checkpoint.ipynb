{
 "cells": [
  {
   "cell_type": "markdown",
   "metadata": {},
   "source": [
    "## <font color=red>*1、数据类型和变量*</font> \n",
    "### 浮点数\n",
    "整数和浮点数在计算机内部存储的方式是不同的，整数运算永远是精确的，而浮点数运算则可能会有四舍五入的误差（对于很大或很小的浮点数，就必须用科学计数法表示，把10用e替代）。\n",
    "\n",
    "\n",
    "### 字符串\n",
    "字符串是以单引号'或双引号\"括起来的任意文本。如果' 本身也是一个字符，那就可以用\" \"括起来。   \n",
    "若字符串内部既包含 ' 又包含 \"  可以用转义字符<font color=red> \\ </font>来标识"
   ]
  },
  {
   "cell_type": "code",
   "execution_count": 3,
   "metadata": {},
   "outputs": [
    {
     "name": "stdout",
     "output_type": "stream",
     "text": [
      "I'm  OK \n",
      "I'm  \"OK\" \n"
     ]
    }
   ],
   "source": [
    "print(\"I'm  OK \")\n",
    "print('I\\'m  \\\"OK\\\" ')"
   ]
  },
  {
   "cell_type": "markdown",
   "metadata": {},
   "source": [
    "如果字符串里面有很多字符都需要转义，就需要加很多 \\ ，为了简化，Python还允许用r''表示''内部的字符串默认不转义"
   ]
  },
  {
   "cell_type": "code",
   "execution_count": 6,
   "metadata": {},
   "outputs": [
    {
     "name": "stdout",
     "output_type": "stream",
     "text": [
      "\\\t\\\n",
      "\\\\\\t\\\\\n"
     ]
    }
   ],
   "source": [
    "print('\\\\\\t\\\\')\n",
    "print(r'\\\\\\t\\\\')"
   ]
  },
  {
   "cell_type": "markdown",
   "metadata": {},
   "source": [
    "换行符可以用 \\n,  为了简化，Python允许用'''...'''的格式表示多行内容, 注意...不是代码一部分"
   ]
  },
  {
   "cell_type": "code",
   "execution_count": 15,
   "metadata": {},
   "outputs": [
    {
     "name": "stdout",
     "output_type": "stream",
     "text": [
      "hello \n",
      "hi\n",
      "hello\n",
      "hi\n",
      "heihei\n"
     ]
    }
   ],
   "source": [
    "print('hello \\nhi')\n",
    "print('''hello\n",
    "hi\n",
    "heihei''')"
   ]
  },
  {
   "cell_type": "markdown",
   "metadata": {},
   "source": [
    "### 布尔值\n",
    "两种值：True  False    \n",
    "运算符：and  not  or "
   ]
  },
  {
   "cell_type": "code",
   "execution_count": 20,
   "metadata": {},
   "outputs": [
    {
     "data": {
      "text/plain": [
       "True"
      ]
     },
     "execution_count": 20,
     "metadata": {},
     "output_type": "execute_result"
    }
   ],
   "source": [
    "True or False"
   ]
  },
  {
   "cell_type": "code",
   "execution_count": 21,
   "metadata": {},
   "outputs": [
    {
     "data": {
      "text/plain": [
       "False"
      ]
     },
     "execution_count": 21,
     "metadata": {},
     "output_type": "execute_result"
    }
   ],
   "source": [
    "True and False"
   ]
  },
  {
   "cell_type": "markdown",
   "metadata": {},
   "source": [
    "### 空值\n",
    "是Python里一个特殊的值，用 None 表示。None不能理解为0，因为0是有意义的，而None是一个特殊的空值。\n",
    "\n",
    "\n",
    "### 变量"
   ]
  },
  {
   "cell_type": "code",
   "execution_count": 28,
   "metadata": {},
   "outputs": [
    {
     "name": "stdout",
     "output_type": "stream",
     "text": [
      "abc\n"
     ]
    }
   ],
   "source": [
    "a = 'abc'\n",
    "b = a\n",
    "a = 'efg'\n",
    "print(b)"
   ]
  },
  {
   "cell_type": "markdown",
   "metadata": {},
   "source": [
    "### 常量\n",
    "常用运算符：\n",
    "    * 除法 / ，结果为浮点数\n",
    "    * 地板除 //, 结果取整\n",
    "    * 取余 %"
   ]
  },
  {
   "cell_type": "code",
   "execution_count": 29,
   "metadata": {},
   "outputs": [
    {
     "name": "stdout",
     "output_type": "stream",
     "text": [
      "3.3333333333333335\n",
      "3\n",
      "1\n"
     ]
    }
   ],
   "source": [
    "print(10 / 3)\n",
    "print(10 // 3)\n",
    "print(10 % 3)"
   ]
  },
  {
   "cell_type": "markdown",
   "metadata": {},
   "source": [
    "### <font color=red>*格式化*<font>\n",
    "两种方法： 使用占位符  或者  format()方法    \n",
    "常见占位符：   \n",
    "    * %d，整数         \n",
    "    * %f，浮点数         \n",
    "    * %s，字符串     \n",
    "    * %x，十六进制整数"
   ]
  },
  {
   "cell_type": "code",
   "execution_count": 33,
   "metadata": {},
   "outputs": [
    {
     "name": "stdout",
     "output_type": "stream",
     "text": [
      "name:odin, age:18\n",
      "Morning 慕容雪 ,your weights increased 4.88%\n"
     ]
    }
   ],
   "source": [
    "print('name:%s, age:%d' % ('odin', 18))\n",
    "print('Morning {0} ,your weights increased {1:.2f}%'.format('慕容雪', 4.876))"
   ]
  },
  {
   "cell_type": "markdown",
   "metadata": {},
   "source": [
    "## <font color=red>*2、数据结构*</font>\n",
    "### 列表\n",
    "list是一种有序的集合，可以随时添加和删除其中的元素。\n",
    "常用方法：\n",
    "    * len()　　　计算长度\n",
    "    * append()　追加\n",
    "    * insert()　任意位置插入\n",
    "    * pop()　　　删除任意位置元素"
   ]
  },
  {
   "cell_type": "code",
   "execution_count": 41,
   "metadata": {},
   "outputs": [
    {
     "name": "stdout",
     "output_type": "stream",
     "text": [
      "4\n",
      "[11, 34, 24, 67, 90]\n",
      "34\n"
     ]
    }
   ],
   "source": [
    "price = [11, 34, 24, 67]\n",
    "print(len(price))\n",
    "price.append(90)\n",
    "print(price)\n",
    "print(price.pop(1))"
   ]
  },
  {
   "cell_type": "markdown",
   "metadata": {},
   "source": [
    "### 元组\n",
    "tuple初始化后无法修改，这样代码安全性更高。虽然没有insert等方法，但获取元素的方式相同。   \n",
    "t = (1, 2, 3)    \n",
    "t[0]  \n",
    "定义空元组：   \n",
    "t = ()   \n",
    "当元组只有一个元素时，必须加 , 来消除歧义(因为也可以表示数学公式中的小括号)。   \n",
    "t = (1 ,)   \n",
    "\n",
    "\n",
    "### 字典\n",
    "dict,全称dictionary，在其他语言中也称为map，使用键-值（key-value）存储，具有极快的查找速度。   \n",
    "这种key-value存储方式，在放进去的时候，必须根据key算出value的存放位置，这样，取的时候才能根据key直接拿到value。\n",
    "判断key存在的两种方法：　　\n",
    "    * 1. in   \n",
    "    * 2. get()方法\n",
    "\n",
    "和list比较，dict有以下几个特点：  \n",
    "查找和插入的速度极快，不会随着key的增加而变慢；   \n",
    "需要占用大量的内存，内存浪费多。   \n",
    "\n",
    "而list相反：   \n",
    "查找和插入的时间随着元素的增加而增加；   \n",
    "占用空间小，浪费内存很少。  \n",
    "所以，dict是用空间来换取时间的一种方法。   \n",
    "\n"
   ]
  },
  {
   "cell_type": "code",
   "execution_count": 5,
   "metadata": {},
   "outputs": [
    {
     "name": "stdout",
     "output_type": "stream",
     "text": [
      "{'ares': 19, 'bill': 12}\n",
      "{'ares': 19, 'bill': 12, 'chris': 21}\n",
      "True\n",
      "-1\n"
     ]
    }
   ],
   "source": [
    "dict = {'ares':19, 'bill':12}\n",
    "print(dict)\n",
    "\n",
    "dict['chris'] = 21\n",
    "print(dict)\n",
    "\n",
    "print('chris' in dict)\n",
    "print(dict.get('tom', -1))"
   ]
  },
  {
   "cell_type": "markdown",
   "metadata": {},
   "source": [
    "### 集合\n",
    "set和dict类似，也是一组key的集合，但不存储value。由于key不能重复，所以，在set中，没有重复的key。   \n",
    "重复元素在set中会自动被过滤.      \n",
    "常用方法：add()  /   remove()\n",
    "\n"
   ]
  },
  {
   "cell_type": "code",
   "execution_count": 14,
   "metadata": {},
   "outputs": [
    {
     "name": "stdout",
     "output_type": "stream",
     "text": [
      "{1, 2, 3, 4, 5, 7}\n",
      "{1, 2, 3, 4, 5, 7, 9}\n",
      "{1, 2, 4, 5, 7, 9}\n"
     ]
    }
   ],
   "source": [
    "s = set([1, 3, 4, 7, 5, 2])\n",
    "print(s)\n",
    "\n",
    "s.add(9)\n",
    "print(s)\n",
    "s.remove(3)\n",
    "print(s)"
   ]
  },
  {
   "cell_type": "markdown",
   "metadata": {},
   "source": [
    "### 循环\n",
    "１、for循环   \n",
    "２、while"
   ]
  },
  {
   "cell_type": "code",
   "execution_count": 17,
   "metadata": {},
   "outputs": [
    {
     "name": "stdout",
     "output_type": "stream",
     "text": [
      "ares\n",
      "bill\n",
      "chris\n",
      "0\n",
      "1\n",
      "2\n",
      "3\n",
      "4\n",
      "2500\n"
     ]
    }
   ],
   "source": [
    "list = ['ares', 'bill', 'chris']\n",
    "for name in list:\n",
    "    print(name)\n",
    "\n",
    "for num in range(0, 5):\n",
    "    print(num)\n",
    "\n",
    "sum = 0\n",
    "n = 99\n",
    "while n > 0:\n",
    "    sum = sum + n \n",
    "    n = n - 2\n",
    "print(sum)"
   ]
  }
 ],
 "metadata": {
  "kernelspec": {
   "display_name": "Python 3",
   "language": "python",
   "name": "python3"
  },
  "language_info": {
   "codemirror_mode": {
    "name": "ipython",
    "version": 3
   },
   "file_extension": ".py",
   "mimetype": "text/x-python",
   "name": "python",
   "nbconvert_exporter": "python",
   "pygments_lexer": "ipython3",
   "version": "3.6.4"
  }
 },
 "nbformat": 4,
 "nbformat_minor": 2
}
