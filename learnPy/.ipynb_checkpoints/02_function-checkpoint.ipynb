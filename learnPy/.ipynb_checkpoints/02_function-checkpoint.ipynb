{
 "cells": [
  {
   "cell_type": "markdown",
   "metadata": {},
   "source": [
    "## <font color=red>*１、函数基础*</font>\n",
    "### 函数定义\n",
    "def 函数名 (参数):   \n",
    "&emsp;&emsp;函数体    \n",
    "&emsp;&emsp;return   \n",
    "   \n",
    "如果没有return语句，函数执行完毕后也会返回结果，只是结果为None。return None可以简写为return。  \n",
    "\n",
    "#### 默认参数\n",
    "默认参数可以简化函数的调用。在设置默认参数时，需要注意：   \n",
    "- 一是必选参数在前，默认参数在后，否则Python的解释器会报错（思考一下为什么默认参数不能放在必选参数前面   \n",
    "- 二是如何设置默认参数    \n",
    "  当函数有多个参数时，把变化大的参数放前面，变化小的参数放后面。变化小的参数就可以作为默认参数。   \n",
    "这里最大的坑是(先定义个函数，传入一个list):   "
   ]
  },
  {
   "cell_type": "code",
   "execution_count": 6,
   "metadata": {
    "scrolled": true
   },
   "outputs": [
    {
     "name": "stdout",
     "output_type": "stream",
     "text": [
      "[1, 2, 3, 'end']\n",
      "['aaa', 'end']\n",
      "['end']\n",
      "['end', 'end']\n"
     ]
    }
   ],
   "source": [
    "def keng(L=[]):\n",
    "    L.append('end')\n",
    "    return L\n",
    "print(keng([1, 2, 3]))\n",
    "print(keng(['aaa']))\n",
    "print(keng())\n",
    "print(keng())"
   ]
  },
  {
   "cell_type": "markdown",
   "metadata": {},
   "source": [
    "造成这样子的原因就是：    \n",
    "Python函数在定义的时候，默认参数L的值就被计算出来了，即[]，因为默认参数L也是一个变量，它指向对象[]，每次调用该函数，如果改变了L的内容，则下次调用时，默认参数的内容就变了，不再是函数定义时的[]了。   \n",
    "<font color=red size=4>*定义默认参数要牢记一点：默认参数必须指向不变对象！*</font>"
   ]
  },
  {
   "cell_type": "markdown",
   "metadata": {},
   "source": [
    "### 空函数\n",
    "如果想定义一个什么事也不做的空函数，可以用pass语句：     \n",
    "def nop():    \n",
    "    pass    \n",
    "pass可以用来作为占位符，比如现在还没想好怎么写函数的代码，就可以先放一个pass，让代码能运行起来。   \n",
    "\n",
    "\n",
    "### 递归函数  \n",
    "在函数内部，可以调用其他函数。如果一个函数在内部调用自身本身，这个函数就是递归函数.   \n",
    "- 递归函数优点是定义简单，逻辑清晰.   \n",
    "- 但需要注意防止栈溢出.   \n",
    "    因为在计算机中，函数调用是通过栈（stack）这种数据结构实现的，每当进入一个函数调用，栈就会加一层栈帧，每当函数返回，栈就会减一层栈帧。由于栈的大小不是无限的，所以，递归调用的次数过多，会导致栈溢出。   \n",
    "   \n",
    "解决递归调用栈溢出的方法是通过<font color=red>尾递归</font>优化，事实上尾递归和循环的效果是一样的，所以，把循环看成是一种特殊的尾递归函数也是可以的。\n",
    "\n",
    "尾递归是指，在函数返回的时候，<font color=red>调用自身本身</font>，并且<font color=red>return语句不能包含表达式</font>。这样，编译器或者解释器就可以把尾递归做优化，使递归本身无论调用多少次，都只占用一个栈帧，不会出现栈溢出的情况。   \n",
    "但遗憾的是，Python标准的解释器没有针对尾递归做优化，任何递归函数都存在栈溢出的问题。\n",
    "\n"
   ]
  },
  {
   "cell_type": "code",
   "execution_count": 4,
   "metadata": {},
   "outputs": [
    {
     "name": "stdout",
     "output_type": "stream",
     "text": [
      "120\n"
     ]
    }
   ],
   "source": [
    "# 未使用尾递归优化\n",
    "def fact(n):\n",
    "    if n == 1:\n",
    "        return 1\n",
    "    return n * fact(n - 1)\n",
    "\n",
    "print(fact(5))"
   ]
  },
  {
   "cell_type": "code",
   "execution_count": 4,
   "metadata": {},
   "outputs": [
    {
     "name": "stdout",
     "output_type": "stream",
     "text": [
      "120\n"
     ]
    }
   ],
   "source": [
    "# 尾递归优化\n",
    "def fact(n):\n",
    "    return fact_iter(n, 1)\n",
    "def fact_iter(num, a):\n",
    "    if num == 1:\n",
    "        return a\n",
    "    return fact_iter(num - 1, num * a)\n",
    "print(fact(5))"
   ]
  },
  {
   "cell_type": "code",
   "execution_count": 1,
   "metadata": {},
   "outputs": [
    {
     "name": "stdout",
     "output_type": "stream",
     "text": [
      "move A  --->  B\n",
      "move A  --->  C\n",
      "move B  --->  C\n",
      "move A  --->  B\n",
      "move C  --->  A\n",
      "move C  --->  B\n",
      "move A  --->  B\n",
      "move A  --->  C\n",
      "move B  --->  C\n",
      "move B  --->  A\n",
      "move C  --->  A\n",
      "move B  --->  C\n",
      "move A  --->  B\n",
      "move A  --->  C\n",
      "move B  --->  C\n"
     ]
    }
   ],
   "source": [
    "# 汉诺塔\n",
    "def move(n, a, b, c):\n",
    "    if n == 1:\n",
    "        print('move', a, ' ---> ', c)\n",
    "    else:\n",
    "        move(n-1, a, c, b)　# 借助ｃ，将n-1个从ａ移至ｂ\n",
    "        move(1, a, b, c)   # 将ａ的最后一个移至ｃ\n",
    "        move(n-1, b, a, c) # 最后将ｂ上n-1个，借助ａ，移至ｃ\n",
    "move(4, 'A', 'B', 'C')"
   ]
  }
 ],
 "metadata": {
  "kernelspec": {
   "display_name": "Python 3",
   "language": "python",
   "name": "python3"
  },
  "language_info": {
   "codemirror_mode": {
    "name": "ipython",
    "version": 3
   },
   "file_extension": ".py",
   "mimetype": "text/x-python",
   "name": "python",
   "nbconvert_exporter": "python",
   "pygments_lexer": "ipython3",
   "version": "3.6.4"
  }
 },
 "nbformat": 4,
 "nbformat_minor": 2
}
