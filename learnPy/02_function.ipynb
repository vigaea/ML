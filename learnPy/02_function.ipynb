{
 "cells": [
  {
   "cell_type": "markdown",
   "metadata": {},
   "source": [
    "## <font color=red>*１、函数基础*</font>\n",
    "### 函数定义\n",
    "def 函数名 (参数):   \n",
    "&emsp;&emsp;函数体    \n",
    "&emsp;&emsp;return   \n",
    "   \n",
    "如果没有return语句，函数执行完毕后也会返回结果，只是结果为None。return None可以简写为return。  \n",
    "\n",
    "#### 默认参数\n",
    "默认参数可以简化函数的调用。在设置默认参数时，需要注意：   \n",
    "    * 一是必选参数在前，默认参数在后，否则Python的解释器会报错（思考一下为什么默认参数不能放在必选参数前面   \n",
    "    * 二是如何设置默认参数    \n",
    "      当函数有多个参数时，把变化大的参数放前面，变化小的参数放后面。变化小的参数就可以作为默认参数。   \n",
    "这里最大的坑是(先定义个函数，传入一个list):   "
   ]
  },
  {
   "cell_type": "code",
   "execution_count": 6,
   "metadata": {
    "scrolled": true
   },
   "outputs": [
    {
     "name": "stdout",
     "output_type": "stream",
     "text": [
      "[1, 2, 3, 'end']\n",
      "['aaa', 'end']\n",
      "['end']\n",
      "['end', 'end']\n"
     ]
    }
   ],
   "source": [
    "def keng(L=[]):\n",
    "    L.append('end')\n",
    "    return L\n",
    "print(keng([1, 2, 3]))\n",
    "print(keng(['aaa']))\n",
    "print(keng())\n",
    "print(keng())"
   ]
  },
  {
   "cell_type": "markdown",
   "metadata": {},
   "source": [
    "造成这样子的原因就是：    \n",
    "Python函数在定义的时候，默认参数L的值就被计算出来了，即[]，因为默认参数L也是一个变量，它指向对象[]，每次调用该函数，如果改变了L的内容，则下次调用时，默认参数的内容就变了，不再是函数定义时的[]了。   \n",
    "<font color=red size=4>*定义默认参数要牢记一点：默认参数必须指向不变对象！*</font>"
   ]
  },
  {
   "cell_type": "markdown",
   "metadata": {},
   "source": [
    "### 空函数\n",
    "如果想定义一个什么事也不做的空函数，可以用pass语句：     \n",
    "def nop():    \n",
    "    pass    \n",
    "pass可以用来作为占位符，比如现在还没想好怎么写函数的代码，就可以先放一个pass，让代码能运行起来。   \n",
    "\n",
    "\n",
    "### 递归函数  "
   ]
  }
 ],
 "metadata": {
  "kernelspec": {
   "display_name": "Python 3",
   "language": "python",
   "name": "python3"
  },
  "language_info": {
   "codemirror_mode": {
    "name": "ipython",
    "version": 3
   },
   "file_extension": ".py",
   "mimetype": "text/x-python",
   "name": "python",
   "nbconvert_exporter": "python",
   "pygments_lexer": "ipython3",
   "version": "3.6.4"
  }
 },
 "nbformat": 4,
 "nbformat_minor": 2
}
