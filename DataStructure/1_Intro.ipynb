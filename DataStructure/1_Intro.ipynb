{
 "cells": [
  {
   "cell_type": "code",
   "execution_count": 2,
   "metadata": {},
   "outputs": [
    {
     "name": "stdout",
     "output_type": "stream",
     "text": [
      "a, b, c: 0, 50, 50\n",
      "a, b, c: 50, 0, 50\n",
      "time: 179\n",
      "finished\n"
     ]
    }
   ],
   "source": [
    "import time\n",
    "\n",
    "start_time = time.time()\n",
    "for e in range(0, 1001):\n",
    "    for f in range(0, 1001):\n",
    "        for g in range(0, 1001):\n",
    "            if e+f+g == 100 and e**2 + f**2 == g**2:\n",
    "                print(\"a, b, c: %d, %d, %d\" % (e, f, g))\n",
    "end_time = time.time()\n",
    "print(\"time: %d\" % (end_time - start_time))\n",
    "print(\"finished\")"
   ]
  },
  {
   "cell_type": "markdown",
   "metadata": {},
   "source": [
    "T = 1000 × 1000 × 1000 × 2\n",
    "T(n) = n^3 × 2\n",
    "\n",
    "# 时间复杂度\n",
    "“大O记法”：对于单调的整数函数f，若存在一个整数函数g和常数c>0，当n趋于无穷时，总有f(n)<=c* g(n), 就是说函数g是f的渐进函数，记为\n",
    "f(n)=O(g(n))。\n",
    "时间复杂度：假设存在函数g，使得算法A在处理规模为n的问题时所用时间为T(n)=O(g(n))\n",
    "\n",
    "## 计算的基本规则\n",
    "1、顺序结构  按加法计算\n",
    "2、分支结构  取最大值\n",
    "3、循环结构  按乘法\n",
    "4、判断算法效率时，往往只需关注最高次项，一般分析的是最坏时间复杂度\n",
    "\n",
    "### 常见时间复杂度\n",
    "![avator](http://pbbn8ldeq.bkt.clouddn.com/2018-07-04%2011-08-00%20%E7%9A%84%E5%B1%8F%E5%B9%95%E6%88%AA%E5%9B%BE.png)\n",
    "\n",
    "O(1) < O(n) < O(logn) < O(nlogn) < O(n^2) < O(n^3) < O(2^n) < O(n!) < O(n^n)"
   ]
  },
  {
   "cell_type": "code",
   "execution_count": 3,
   "metadata": {},
   "outputs": [
    {
     "name": "stdout",
     "output_type": "stream",
     "text": [
      "a, b, c:0.00, 500.00, 500.00\n",
      "a, b, c:200.00, 375.00, 425.00\n",
      "a, b, c:375.00, 200.00, 425.00\n",
      "a, b, c:500.00, 0.00, 500.00\n",
      "time: 1.02\n"
     ]
    }
   ],
   "source": [
    "import time\n",
    "\n",
    "start = time.time()\n",
    "for a in range(0, 1001):\n",
    "    for b in range(0, 1001):\n",
    "        c = 1000 - a - b\n",
    "        if a**2 + b**2 == c**2:\n",
    "            print(\"a, b, c:%.2f, %.2f, %.2f\" % (a, b, c))\n",
    "end = time.time()\n",
    "print(\"time: %.2f\" % (end - start))"
   ]
  },
  {
   "cell_type": "code",
   "execution_count": null,
   "metadata": {},
   "outputs": [],
   "source": []
  }
 ],
 "metadata": {
  "kernelspec": {
   "display_name": "Python 3",
   "language": "python",
   "name": "python3"
  },
  "language_info": {
   "codemirror_mode": {
    "name": "ipython",
    "version": 3
   },
   "file_extension": ".py",
   "mimetype": "text/x-python",
   "name": "python",
   "nbconvert_exporter": "python",
   "pygments_lexer": "ipython3",
   "version": "3.6.4"
  }
 },
 "nbformat": 4,
 "nbformat_minor": 2
}
