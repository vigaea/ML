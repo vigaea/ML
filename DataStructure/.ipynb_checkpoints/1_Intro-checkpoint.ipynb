{
 "cells": [
  {
   "cell_type": "code",
   "execution_count": 2,
   "metadata": {},
   "outputs": [
    {
     "name": "stdout",
     "output_type": "stream",
     "text": [
      "a, b, c: 0, 50, 50\n",
      "a, b, c: 50, 0, 50\n",
      "time: 179\n",
      "finished\n"
     ]
    }
   ],
   "source": [
    "import time\n",
    "\n",
    "start_time = time.time()\n",
    "for e in range(0, 1001):\n",
    "    for f in range(0, 1001):\n",
    "        for g in range(0, 1001):\n",
    "            if e+f+g == 100 and e**2 + f**2 == g**2:\n",
    "                print(\"a, b, c: %d, %d, %d\" % (e, f, g))\n",
    "end_time = time.time()\n",
    "print(\"time: %d\" % (end_time - start_time))\n",
    "print(\"finished\")"
   ]
  },
  {
   "cell_type": "markdown",
   "metadata": {},
   "source": [
    "时间复杂度\n",
    "T = 1000 * 1000 * 1000 * 2\n",
    "T(n) = n^3 * 2"
   ]
  },
  {
   "cell_type": "code",
   "execution_count": 3,
   "metadata": {},
   "outputs": [
    {
     "name": "stdout",
     "output_type": "stream",
     "text": [
      "a, b, c:0.00, 500.00, 500.00\n",
      "a, b, c:200.00, 375.00, 425.00\n",
      "a, b, c:375.00, 200.00, 425.00\n",
      "a, b, c:500.00, 0.00, 500.00\n",
      "time: 1.02\n"
     ]
    }
   ],
   "source": [
    "import time\n",
    "\n",
    "start = time.time()\n",
    "for a in range(0, 1001):\n",
    "    for b in range(0, 1001):\n",
    "        c = 1000 - a - b\n",
    "        if a**2 + b**2 == c**2:\n",
    "            print(\"a, b, c:%.2f, %.2f, %.2f\" % (a, b, c))\n",
    "end = time.time()\n",
    "print(\"time: %.2f\" % (end - start))"
   ]
  },
  {
   "cell_type": "code",
   "execution_count": null,
   "metadata": {},
   "outputs": [],
   "source": []
  }
 ],
 "metadata": {
  "kernelspec": {
   "display_name": "Python 3",
   "language": "python",
   "name": "python3"
  },
  "language_info": {
   "codemirror_mode": {
    "name": "ipython",
    "version": 3
   },
   "file_extension": ".py",
   "mimetype": "text/x-python",
   "name": "python",
   "nbconvert_exporter": "python",
   "pygments_lexer": "ipython3",
   "version": "3.6.4"
  }
 },
 "nbformat": 4,
 "nbformat_minor": 2
}
